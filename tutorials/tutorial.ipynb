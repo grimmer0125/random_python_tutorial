{
 "cells": [
  {
   "cell_type": "code",
   "execution_count": 1,
   "metadata": {},
   "outputs": [],
   "source": [
    "x = 3\n",
    "z = 2*x +7 \n",
    "k1 = \"aaa\""
   ]
  },
  {
   "cell_type": "code",
   "execution_count": 2,
   "metadata": {},
   "outputs": [],
   "source": [
    "k2 = k1 + \"cc\""
   ]
  },
  {
   "cell_type": "code",
   "execution_count": null,
   "metadata": {},
   "outputs": [],
   "source": [
    "k3 = k2-\"a\" # throw exception "
   ]
  },
  {
   "cell_type": "code",
   "execution_count": 6,
   "metadata": {},
   "outputs": [
    {
     "name": "stdout",
     "output_type": "stream",
     "text": [
      "iterate each character:a\n",
      "iterate each character:b\n",
      "iterate each character:c\n",
      "look for 'c' in x variable\n",
      "has c\n"
     ]
    }
   ],
   "source": [
    "# string operation 1 \n",
    "x = \"abc\"\n",
    "for c in x:\n",
    "    print(f'iterate each character:{c}')\n",
    "\n",
    "# string operation 2 \n",
    "print(\"look for 'c' in x variable\")\n",
    "if \"c\" in x:\n",
    "    print(\"has c\")"
   ]
  },
  {
   "cell_type": "markdown",
   "metadata": {},
   "source": [
    "### Q1\n",
    "1 加到 10"
   ]
  },
  {
   "cell_type": "code",
   "execution_count": 2,
   "metadata": {},
   "outputs": [
    {
     "name": "stdout",
     "output_type": "stream",
     "text": [
      "1\n",
      "2\n",
      "3\n",
      "4\n",
      "5\n",
      "6\n",
      "7\n",
      "8\n",
      "9\n",
      "10\n",
      "total: 55\n"
     ]
    }
   ],
   "source": [
    "sum =0\n",
    "n_list = [1,2,3,4,5,6,7,8,9,10]\n",
    "for number in n_list:\n",
    "    sum = sum + number\n",
    "    print(number)\n",
    "print(f'total: {sum}')    "
   ]
  },
  {
   "cell_type": "code",
   "execution_count": 26,
   "metadata": {},
   "outputs": [
    {
     "name": "stdout",
     "output_type": "stream",
     "text": [
      "10\n"
     ]
    }
   ],
   "source": [
    "sum = 0\n",
    "for i in range(1, 11):\n",
    "    sum = sum + i  \n",
    "print(sum)        "
   ]
  },
  {
   "cell_type": "markdown",
   "metadata": {},
   "source": [
    "### Q2:\n",
    "x = [\"grimmer\", \"grimmer@gmail.com\"]\n",
    "找出沒有 @ 的 string"
   ]
  },
  {
   "cell_type": "code",
   "execution_count": 11,
   "metadata": {},
   "outputs": [
    {
     "name": "stdout",
     "output_type": "stream",
     "text": [
      "grimmer doe not have @\n"
     ]
    }
   ],
   "source": [
    "str_list = [\"grimmer\", \"grimmer@gmail.com\"]\n",
    "for str_ in str_list:\n",
    "    #   if \"@\" not in str_:\n",
    "    #       print(\"not have:\"+ str_)\n",
    "    is_exist = False\n",
    "    if \"@\" in str_:\n",
    "        is_exist = True\n",
    "    # 另一作法:\n",
    "    # for c in str_:\n",
    "    #     if c == \"@\"\n",
    "    if is_exist is not True:   # !=, is not True 等於 is False     \n",
    "        print(f\"{str_} doe not have @\")\n",
    "\n"
   ]
  },
  {
   "cell_type": "code",
   "execution_count": null,
   "metadata": {},
   "outputs": [],
   "source": []
  }
 ],
 "metadata": {
  "kernelspec": {
   "display_name": "Python 3",
   "language": "python",
   "name": "python3"
  },
  "language_info": {
   "codemirror_mode": {
    "name": "ipython",
    "version": 3
   },
   "file_extension": ".py",
   "mimetype": "text/x-python",
   "name": "python",
   "nbconvert_exporter": "python",
   "pygments_lexer": "ipython3",
   "version": "3.7.3"
  }
 },
 "nbformat": 4,
 "nbformat_minor": 2
}
